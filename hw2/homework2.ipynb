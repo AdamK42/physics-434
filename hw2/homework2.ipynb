{
 "cells": [
  {
   "cell_type": "markdown",
   "metadata": {},
   "source": [
    "# Homework 2\n",
    " \n",
    "1. A little introductory brain teaser. Which is more probable when rolling 2 six-sided dice: rolling snake eyes (two ones) or rolling sevens (dice sum to seven)? What is the ratio of the probabilities?"
   ]
  },
  {
   "cell_type": "markdown",
   "metadata": {},
   "source": [
    "The probability of a snake eyes is the probability to roll a 1 after rolling a 1. These are six-sided dice, so the probability is 1/6 and then another 1/6. This means that the total probability is 1/6 * 1/6, or 1/36. This written in ratio form is 1:36.\n",
    "\n",
    "The probability of rolling a seven is the probability to roll any number, and then to roll the corresponding number that adds to seven. This means that it is a 6/6 and then a 1/6 probability, which makes the total probability, 1 * 1/6, or 1/6. This written in ratio form is 1:6.\n",
    "\n",
    "The probability of rolling a seven is higher then the probability of rolling snake eyes."
   ]
  },
  {
   "cell_type": "markdown",
   "metadata": {},
   "source": [
    "2. Following what we did in class show how to use the convolution operator to determine the probability of the **sum** of 2 six sided dice. Do both analytically (math & counting) and numerically (computer program). Beware the implicit definition of the values (x-axis on histogram)."
   ]
  },
  {
   "cell_type": "markdown",
   "metadata": {},
   "source": [
    "###### Analytically\n",
    "The probability of the sum of two dice is given by the convolution operator:\n",
    "\n",
    "**P A+B**(X) = integral of *P A*(z) * *P B*(X-z) dz = \n",
    "\n",
    "I am very confused about how to use the convolution operator, and since the rest of this assignment relies on the answer to 2, I guess this is where I am done. How do you use a convolution operator? I don't really understand the formula in the lecture slides and I was pretty sick so I didn't catch the lecture.\n"
   ]
  },
  {
   "cell_type": "code",
   "execution_count": 1,
   "metadata": {},
   "outputs": [],
   "source": [
    "#Numerically"
   ]
  },
  {
   "cell_type": "markdown",
   "metadata": {},
   "source": [
    "3. Calculate the mean and the variance of the distribution in problem 2. Hint: this is surprisingly tricky, make sure your result makes sense."
   ]
  },
  {
   "cell_type": "markdown",
   "metadata": {},
   "source": [
    "4. Repeat 2, and graph the **average** of 10 dice. Is this is a Gaussian distribution? Explain in depth."
   ]
  },
  {
   "cell_type": "markdown",
   "metadata": {},
   "source": [
    "5. Show that the sum and average of an initially Gaussian distribution is also a Guassian (can be analytic or numerical). How does the standard deviation of the resulting sum or average Guassian change? This is a *hugely* important result. Explore what this means for integrating a signal over time."
   ]
  }
 ],
 "metadata": {
  "kernelspec": {
   "display_name": "Python 3",
   "language": "python",
   "name": "python3"
  },
  "language_info": {
   "codemirror_mode": {
    "name": "ipython",
    "version": 3
   },
   "file_extension": ".py",
   "mimetype": "text/x-python",
   "name": "python",
   "nbconvert_exporter": "python",
   "pygments_lexer": "ipython3",
   "version": "3.7.3"
  }
 },
 "nbformat": 4,
 "nbformat_minor": 2
}
