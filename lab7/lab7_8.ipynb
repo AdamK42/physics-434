{
 "cells": [
  {
   "cell_type": "markdown",
   "metadata": {},
   "source": [
    "# Lab 7\n",
    "\n",
    "## Event Selection Optimization\n",
    "\n",
    "You and your lab partner should pick different pT (transverse momentum) samples (one uses low-pT sampels and the other use high-pT samples) for this lab. In each pT sample, there are dedicated training samples for event selection optimization. All studies should be carried out by normalizing Higgs and QCD samples in each pT sample to given expected yields accordingly (See Dataset descriptions)."
   ]
  },
  {
   "cell_type": "code",
   "execution_count": 2,
   "metadata": {},
   "outputs": [],
   "source": [
    "# Imports\n",
    "%matplotlib inline\n",
    "import numpy as np\n",
    "import matplotlib\n",
    "import matplotlib.pyplot as plt\n",
    "import scipy\n",
    "from scipy.stats import poisson\n",
    "import pickle\n",
    "import pandas as pd"
   ]
  },
  {
   "cell_type": "code",
   "execution_count": 3,
   "metadata": {},
   "outputs": [
    {
     "name": "stdout",
     "output_type": "stream",
     "text": [
      "Index(['pt', 'eta', 'phi', 'mass', 'ee2', 'ee3', 'd2', 'angularity', 't1',\n",
      "       't2', 't3', 't21', 't32', 'KtDeltaR'],\n",
      "      dtype='object')\n"
     ]
    }
   ],
   "source": [
    "# pickle read higgs and qcd files\n",
    "higgs_file = open(\"Higgs_data/Sample_pt_250_500/higgs_100000_pt_250_500.pkl\", 'rb')\n",
    "higgs_dict = pickle.load(higgs_file)\n",
    "qcd_file = open(\"Higgs_data/Sample_pt_250_500/qcd_100000_pt_250_500.pkl\", 'rb')\n",
    "qcd_dict = pickle.load(qcd_file)\n",
    "\n",
    "print(higgs_dict.keys()) # qcd_dict has same keys"
   ]
  },
  {
   "cell_type": "code",
   "execution_count": 4,
   "metadata": {},
   "outputs": [],
   "source": [
    "# pull out the arrays\n",
    "pt_h = higgs_dict['pt']\n",
    "eta_h = higgs_dict['eta']\n",
    "phi_h = higgs_dict['phi']\n",
    "mass_h = higgs_dict['mass']\n",
    "ee2_h = higgs_dict['ee2']\n",
    "ee3_h = higgs_dict['ee3']\n",
    "d2_h = higgs_dict['d2']\n",
    "ang_h = higgs_dict['angularity']\n",
    "t1_h = higgs_dict['t1']\n",
    "t2_h = higgs_dict['t2']\n",
    "t3_h = higgs_dict['t3']\n",
    "t21_h = higgs_dict['t21']\n",
    "t32_h = higgs_dict['t32']\n",
    "KtDeltaR_h = higgs_dict['KtDeltaR']\n",
    "\n",
    "pt_q = qcd_dict['pt']\n",
    "eta_q = qcd_dict['eta']\n",
    "phi_q = qcd_dict['phi']\n",
    "mass_q = qcd_dict['mass']\n",
    "ee2_q = qcd_dict['ee2']\n",
    "ee3_q = qcd_dict['ee3']\n",
    "d2_q = qcd_dict['d2']\n",
    "ang_q = qcd_dict['angularity']\n",
    "t1_q = qcd_dict['t1']\n",
    "t2_q = qcd_dict['t2']\n",
    "t3_q = qcd_dict['t3']\n",
    "t21_q = qcd_dict['t21']\n",
    "t32_q = qcd_dict['t32']\n",
    "KtDeltaR_q = qcd_dict['KtDeltaR']"
   ]
  },
  {
   "cell_type": "markdown",
   "metadata": {},
   "source": [
    "## Problem 1\n",
    "\n",
    "Make a stacked histogram plot for the feature variable: mass."
   ]
  },
  {
   "cell_type": "code",
   "execution_count": 5,
   "metadata": {},
   "outputs": [
    {
     "data": {
      "image/png": "[encoded data removed]",
      "text/plain": [
       "<Figure size 648x648 with 1 Axes>"
      ]
     },
     "metadata": {
      "needs_background": "light"
     },
     "output_type": "display_data"
    }
   ],
   "source": [
    "# Ok, we need to make this normalized, and want to stack h mass and q mass\n",
    "figure = plt.figure(figsize=(9, 9))\n",
    "ax = figure.subplots()\n",
    "\n",
    "n, bins, patches = ax.hist([mass_q, mass_h], bins=80, \n",
    "                           stacked=True, density=True);\n",
    "ax.set_title(\"Normalized histogram of particle mass\")\n",
    "ax.set_ylabel(\"Probability\")\n",
    "ax.set_xlabel(\"Mass (in GeV)\")\n",
    "ax.legend([\"QCD Data\", \"Higgs Data\"]);"
   ]
  },
  {
   "cell_type": "markdown",
   "metadata": {},
   "source": [
    "Evaluate expected significance without any event selection."
   ]
  },
  {
   "cell_type": "code",
   "execution_count": 6,
   "metadata": {},
   "outputs": [
    {
     "name": "stdout",
     "output_type": "stream",
     "text": [
      "Poisson: 0.7615278780931256\n",
      "Analytic: 0.7071067811865475\n"
     ]
    }
   ],
   "source": [
    "# given N_qcd and N_higgs\n",
    "N_qcd = 20000\n",
    "N_higgs = 100\n",
    "\n",
    "# Poisson statistics significance calculation\n",
    "poisson_significance = poisson.cdf(N_qcd + N_higgs, N_qcd)\n",
    "print(\"Poisson: \" + str(poisson_significance))\n",
    "\n",
    "analytic_significance = N_higgs / np.sqrt(N_qcd)\n",
    "print(\"Analytic: \" + str(analytic_significance))"
   ]
  },
  {
   "cell_type": "markdown",
   "metadata": {},
   "source": [
    "The analytic significance is smaller than the poisson significance. This makes sense because adding the means like this doesn't make any sense."
   ]
  },
  {
   "cell_type": "markdown",
   "metadata": {},
   "source": [
    "## Problem 2\n",
    "\n",
    "Identify mass cuts to optimize the expected sigificance. Try different mass cuts systematically."
   ]
  },
  {
   "cell_type": "markdown",
   "metadata": {},
   "source": [
    "The optimal mass cuts will occur around the higgs value spike, so we want to find count values for that. Lets slice up masses into 5 chunks."
   ]
  },
  {
   "cell_type": "markdown",
   "metadata": {},
   "source": [
    "Evaluate expected significance for each set of mass cuts. Identify the set of the mass cuts which give you the highest significance."
   ]
  },
  {
   "cell_type": "code",
   "execution_count": 7,
   "metadata": {},
   "outputs": [
    {
     "name": "stdout",
     "output_type": "stream",
     "text": [
      "Best significance: 0.992060582564444\n",
      "Best cut: 120.0 - 130.0\n",
      "All significances: [0.52503567 0.55009559 0.99206058 0.54091126 0.50106557]\n"
     ]
    }
   ],
   "source": [
    "# tweakables\n",
    "cuts = 5      # breaks on cuts = 1 for some reason\n",
    "start = 100\n",
    "end = 150\n",
    "\n",
    "# calculated\n",
    "cut_size = (end - start) / cuts\n",
    "cut_N_higgs = 0 # will result in 0% significance if no higgs data found\n",
    "cut_N_qcd = 1 # prevents divide by 0 error\n",
    "t_higgs = len(mass_h)\n",
    "t_qcd = len(mass_q)\n",
    "\n",
    "# outputs\n",
    "all_significances = np.zeros(cuts)\n",
    "best_significance = 0.0\n",
    "best_lower = 0\n",
    "best_upper = 0\n",
    "\n",
    "for idx in range(0, cuts):\n",
    "    lower = start + idx*cut_size\n",
    "    upper = lower + cut_size\n",
    "    \n",
    "    cut_h = np.where(np.logical_and(mass_h >= lower, mass_h <= upper))[0]\n",
    "    cut_q = np.where(np.logical_and(mass_q >= lower, mass_q <= upper))[0]\n",
    "    \n",
    "    cut_N_higgs = len(cut_h) / t_higgs * N_higgs\n",
    "    cut_N_qcd = len(cut_q) / t_qcd * N_qcd\n",
    "    \n",
    "    cut_significance = poisson.cdf(cut_N_higgs + cut_N_qcd, cut_N_qcd)\n",
    "    \n",
    "    #record current significance\n",
    "    all_significances[idx] = cut_significance\n",
    "    \n",
    "    if cut_significance > best_significance:\n",
    "        best_significance = cut_significance\n",
    "        best_lower = lower\n",
    "        best_upper = upper\n",
    "    \n",
    "print(\"Best significance: \" + str(best_significance))\n",
    "print(\"Best cut: \" + str(best_lower) + \" - \" + str(best_upper))\n",
    "print(\"All significances: \" + str(all_significances))"
   ]
  },
  {
   "cell_type": "markdown",
   "metadata": {},
   "source": [
    "## Problem 3\n",
    "\n",
    "Make stacked histogram plots for the rest of features."
   ]
  },
  {
   "cell_type": "markdown",
   "metadata": {},
   "source": [
    "Set A of plots without any selection. Can you identify another feature as discriminative as mass?"
   ]
  },
  {
   "cell_type": "code",
   "execution_count": 16,
   "metadata": {},
   "outputs": [
    {
     "data": {
      "image/png": "[encoded data removed]",
      "text/plain": [
       "<Figure size 360x360 with 1 Axes>"
      ]
     },
     "metadata": {
      "needs_background": "light"
     },
     "output_type": "display_data"
    }
   ],
   "source": [
    "# since doing all features is a bit much, I shall choose a couple others.\n",
    "# The features I shall investigate are t21, pT, and something that should be\n",
    "# poor, like phi\n",
    "\n",
    "figure = plt.figure(figsize=(5, 5))\n",
    "ax = figure.subplots()\n",
    "\n",
    "n, bins, patches = ax.hist([t21_q, t21_h], bins=80, \n",
    "                           stacked=True, density=True);\n",
    "ax.set_title(\"Normalized histogram of feature t21\")\n",
    "ax.set_ylabel(\"Probability\")\n",
    "ax.set_xlabel(\"t21\")\n",
    "ax.legend([\"QCD Data\", \"Higgs Data\"]);"
   ]
  },
  {
   "cell_type": "markdown",
   "metadata": {},
   "source": [
    "Set B of plots with your optimal mass cuts. Can you identify additional features to further improve expected significance?"
   ]
  },
  {
   "cell_type": "code",
   "execution_count": 8,
   "metadata": {},
   "outputs": [
    {
     "data": {
      "image/png": "[encoded data removed]",
      "text/plain": [
       "<Figure size 360x360 with 1 Axes>"
      ]
     },
     "metadata": {
      "needs_background": "light"
     },
     "output_type": "display_data"
    }
   ],
   "source": [
    "# t21\n",
    "figure = plt.figure(figsize=(5, 5))\n",
    "ax = figure.subplots()\n",
    "\n",
    "n, bins, patches = ax.hist([t21_q, t21_h], bins=80, \n",
    "                           stacked=True, density=True);\n",
    "ax.set_title(\"Normalized histogram of feature t21\")\n",
    "ax.set_ylabel(\"Probability\")\n",
    "ax.set_xlabel(\"t21\")\n",
    "ax.legend([\"QCD Data\", \"Higgs Data\"]);"
   ]
  },
  {
   "cell_type": "code",
   "execution_count": 9,
   "metadata": {},
   "outputs": [
    {
     "name": "stdout",
     "output_type": "stream",
     "text": [
      "Best significance: 0.9170211917385215\n",
      "Best cut: 0.1 - 0.2\n"
     ]
    }
   ],
   "source": [
    "# Thats... not normalized, but ok\n",
    "\n",
    "\n",
    "#Copy and pasted from above, changed to be more generic\n",
    "\n",
    "# tweakables\n",
    "feature_h = t21_h\n",
    "feature_q = t21_q\n",
    "cuts = 10    # breaks on cuts = 1 for some reason\n",
    "start = 0.0\n",
    "end = 1.0\n",
    "\n",
    "# calculated\n",
    "cut_size = (end - start) / cuts\n",
    "cut_N_higgs = 0 # will result in 0% significance if no higgs data found\n",
    "cut_N_qcd = 1 # prevents divide by 0 error\n",
    "t_higgs = len(feature_h)\n",
    "t_qcd = len(feature_q)\n",
    "\n",
    "# outputs\n",
    "best_significance = 0.0\n",
    "best_lower = 0\n",
    "best_upper = 0\n",
    "\n",
    "for idx in range(0, cuts):\n",
    "    lower = start + idx*cut_size\n",
    "    upper = lower + cut_size\n",
    "    \n",
    "    # np.where returns a tuple for unknowable reasons, so we have to\n",
    "    # extract the actually usable part.\n",
    "    cut_h = np.where(np.logical_and(feature_h >= lower, \n",
    "                                    feature_h <= upper))[0]\n",
    "    cut_q = np.where(np.logical_and(feature_q >= lower, \n",
    "                                    feature_q <= upper))[0]\n",
    "    \n",
    "    cut_N_higgs = len(cut_h) / t_higgs * N_higgs\n",
    "    cut_N_qcd = len(cut_q) / t_qcd * N_qcd\n",
    "    \n",
    "    cut_significance = poisson.cdf(cut_N_higgs + cut_N_qcd, cut_N_qcd)\n",
    "    \n",
    "    if cut_significance > best_significance:\n",
    "        best_significance = cut_significance\n",
    "        best_lower = lower\n",
    "        best_upper = upper\n",
    "    \n",
    "print(\"Best significance: \" + str(best_significance))\n",
    "print(\"Best cut: \" + str(best_lower) + \" - \" + str(best_upper))"
   ]
  },
  {
   "cell_type": "markdown",
   "metadata": {},
   "source": [
    "This is what I would expect given the above histogram."
   ]
  },
  {
   "cell_type": "code",
   "execution_count": 13,
   "metadata": {},
   "outputs": [
    {
     "data": {
      "image/png": "[encoded data removed]",
      "text/plain": [
       "<Figure size 360x360 with 1 Axes>"
      ]
     },
     "metadata": {
      "needs_background": "light"
     },
     "output_type": "display_data"
    }
   ],
   "source": [
    "# On to pT\n",
    "figure = plt.figure(figsize=(5, 5))\n",
    "ax = figure.subplots()\n",
    "\n",
    "n, bins, patches = ax.hist([pt_q, pt_h], bins=80, \n",
    "                           stacked=True, density=True);\n",
    "ax.set_title(\"Normalized histogram of momentum\")\n",
    "ax.set_ylabel(\"Probability\")\n",
    "ax.set_xlabel(\"Momentum\")\n",
    "ax.legend([\"QCD Data\", \"Higgs Data\"]);"
   ]
  },
  {
   "cell_type": "code",
   "execution_count": 11,
   "metadata": {},
   "outputs": [
    {
     "name": "stdout",
     "output_type": "stream",
     "text": [
      "Best significance: 0.7437220617721526\n",
      "Best cut: 480.0 - 485.0\n"
     ]
    }
   ],
   "source": [
    "#Copy and pasted from above\n",
    "\n",
    "# tweakables\n",
    "feature_h = pt_h\n",
    "feature_q = pt_q\n",
    "cuts = 50    # breaks on cuts = 1 for some reason\n",
    "start = 250.0\n",
    "end = 500.0\n",
    "\n",
    "# calculated\n",
    "cut_size = (end - start) / cuts\n",
    "cut_N_higgs = 0 # will result in 0% significance if no higgs data found\n",
    "cut_N_qcd = 1 # prevents divide by 0 error\n",
    "t_higgs = len(feature_h)\n",
    "t_qcd = len(feature_q)\n",
    "\n",
    "# outputs\n",
    "best_significance = 0.0\n",
    "best_lower = 0\n",
    "best_upper = 0\n",
    "\n",
    "for idx in range(0, cuts):\n",
    "    lower = start + idx*cut_size\n",
    "    upper = lower + cut_size\n",
    "    \n",
    "    # np.where returns a tuple for unknowable reasons, so we have to\n",
    "    # extract the actually usable part.\n",
    "    cut_h = np.where(np.logical_and(feature_h >= lower, \n",
    "                                    feature_h <= upper))[0]\n",
    "    cut_q = np.where(np.logical_and(feature_q >= lower, \n",
    "                                    feature_q <= upper))[0]\n",
    "    \n",
    "    cut_N_higgs = len(cut_h) / t_higgs * N_higgs\n",
    "    cut_N_qcd = len(cut_q) / t_qcd * N_qcd\n",
    "    \n",
    "    cut_significance = poisson.cdf(cut_N_higgs + cut_N_qcd, cut_N_qcd)\n",
    "    \n",
    "    if cut_significance > best_significance:\n",
    "        best_significance = cut_significance\n",
    "        best_lower = lower\n",
    "        best_upper = upper\n",
    "    \n",
    "print(\"Best significance: \" + str(best_significance))\n",
    "print(\"Best cut: \" + str(best_lower) + \" - \" + str(best_upper))"
   ]
  },
  {
   "cell_type": "markdown",
   "metadata": {},
   "source": [
    "This again feels reasonable given the histogram data."
   ]
  },
  {
   "cell_type": "code",
   "execution_count": 12,
   "metadata": {},
   "outputs": [
    {
     "data": {
      "image/png": "[encoded data removed]",
      "text/plain": [
       "<Figure size 360x360 with 1 Axes>"
      ]
     },
     "metadata": {
      "needs_background": "light"
     },
     "output_type": "display_data"
    }
   ],
   "source": [
    "# Now on to something I think would probably be worse. Phi\n",
    "\n",
    "figure = plt.figure(figsize=(5, 5))\n",
    "ax = figure.subplots()\n",
    "\n",
    "n, bins, patches = ax.hist([phi_q, phi_h], bins=80, \n",
    "                           stacked=True, density=True);\n",
    "ax.set_title(\"Normalized histogram of Phi\")\n",
    "ax.set_ylabel(\"Probability\")\n",
    "ax.set_xlabel(\"Phi\")\n",
    "ax.legend([\"QCD Data\", \"Higgs Data\"]);"
   ]
  },
  {
   "cell_type": "code",
   "execution_count": 15,
   "metadata": {},
   "outputs": [
    {
     "name": "stdout",
     "output_type": "stream",
     "text": [
      "Best significance: 0.55304713336652\n",
      "Best cut: 0.3599999999999999 - 0.47999999999999987\n"
     ]
    }
   ],
   "source": [
    "#Copy and pasted from above\n",
    "\n",
    "# tweakables\n",
    "feature_h = phi_h\n",
    "feature_q = phi_q\n",
    "cuts = 50    # breaks on cuts = 1 for some reason\n",
    "start = -3\n",
    "end = 3\n",
    "\n",
    "# calculated\n",
    "cut_size = (end - start) / cuts\n",
    "cut_N_higgs = 0 # will result in 0% significance if no higgs data found\n",
    "cut_N_qcd = 1 # prevents divide by 0 error\n",
    "t_higgs = len(feature_h)\n",
    "t_qcd = len(feature_q)\n",
    "\n",
    "# outputs\n",
    "best_significance = 0.0\n",
    "best_lower = 0\n",
    "best_upper = 0\n",
    "\n",
    "for idx in range(0, cuts):\n",
    "    lower = start + idx*cut_size\n",
    "    upper = lower + cut_size\n",
    "    \n",
    "    # np.where returns a tuple for unknowable reasons, so we have to\n",
    "    # extract the actually usable part.\n",
    "    cut_h = np.where(np.logical_and(feature_h >= lower, \n",
    "                                    feature_h <= upper))[0]\n",
    "    cut_q = np.where(np.logical_and(feature_q >= lower, \n",
    "                                    feature_q <= upper))[0]\n",
    "    \n",
    "    cut_N_higgs = len(cut_h) / t_higgs * N_higgs\n",
    "    cut_N_qcd = len(cut_q) / t_qcd * N_qcd\n",
    "    \n",
    "    cut_significance = poisson.cdf(cut_N_higgs + cut_N_qcd, cut_N_qcd)\n",
    "    \n",
    "    if cut_significance > best_significance:\n",
    "        best_significance = cut_significance\n",
    "        best_lower = lower\n",
    "        best_upper = upper\n",
    "    \n",
    "print(\"Best significance: \" + str(best_significance))\n",
    "print(\"Best cut: \" + str(best_lower) + \" - \" + str(best_upper))"
   ]
  },
  {
   "cell_type": "markdown",
   "metadata": {},
   "source": [
    "55% confidence is pretty terrible, but given this histogram I was not expecting useful cuts anyways."
   ]
  },
  {
   "cell_type": "markdown",
   "metadata": {},
   "source": []
  },
  {
   "cell_type": "code",
   "execution_count": null,
   "metadata": {},
   "outputs": [],
   "source": []
  },
  {
   "cell_type": "markdown",
   "metadata": {},
   "source": [
    "## Problem 4\n",
    "Optimize event selections using multiple features (if necessary)\n",
    "\n",
    "Find a set of feature cuts which can help you to achieve the best significance."
   ]
  },
  {
   "cell_type": "code",
   "execution_count": null,
   "metadata": {},
   "outputs": [],
   "source": []
  },
  {
   "cell_type": "markdown",
   "metadata": {},
   "source": [
    "Compare significance (before/after event selection) derived in your pT samples to your lab partner. Describe your findings."
   ]
  },
  {
   "cell_type": "code",
   "execution_count": null,
   "metadata": {},
   "outputs": [],
   "source": []
  },
  {
   "cell_type": "markdown",
   "metadata": {},
   "source": [
    "# Lab 8\n",
    "\n",
    "## Pseudo-experiment data analysis\n",
    "\n",
    "Using your optimized event selection, hunt for your signal by using one of the pseudo-experiment dataset. For each task below, you will choose one of the observed data from your specific pT sample to perform the analysis."
   ]
  },
  {
   "cell_type": "code",
   "execution_count": 19,
   "metadata": {},
   "outputs": [],
   "source": [
    "hi_lumi_file = \"Higgs_data/Sample_pt_250_500/data_highLumi_pt_250_500.h5\"\n",
    "hi_data = pd.read_hdf(hi_lumi_file)\n",
    "\n",
    "lo_lumi_file = \"Higgs_data/Sample_pt_250_500/data_lowLumi_pt_250_500.h5\"\n",
    "lo_data = pd.read_hdf(lo_lumi_file)"
   ]
  },
  {
   "cell_type": "markdown",
   "metadata": {},
   "source": [
    "## High luminosity data\n",
    "\n",
    "Focus on each feature of your event selection. Plot observed data, overlap with expected signal and background (normalized to observed yields) without event selection."
   ]
  },
  {
   "cell_type": "code",
   "execution_count": null,
   "metadata": {},
   "outputs": [],
   "source": []
  },
  {
   "cell_type": "markdown",
   "metadata": {},
   "source": [
    "Plot observed data, overlap with expected signal and background (normalized to observed yields) with optimal event selection."
   ]
  },
  {
   "cell_type": "code",
   "execution_count": null,
   "metadata": {},
   "outputs": [],
   "source": []
  },
  {
   "cell_type": "markdown",
   "metadata": {},
   "source": [
    "Evaluate observed significance and compare your results to expectation."
   ]
  },
  {
   "cell_type": "code",
   "execution_count": null,
   "metadata": {},
   "outputs": [],
   "source": []
  },
  {
   "cell_type": "markdown",
   "metadata": {},
   "source": [
    "## Low luminosity data\n",
    "\n",
    "Focus on each feature of your event selection. Plot observed data, overlap with expected signal and background (normalized to observed yields) without event selection."
   ]
  },
  {
   "cell_type": "code",
   "execution_count": null,
   "metadata": {},
   "outputs": [],
   "source": []
  },
  {
   "cell_type": "markdown",
   "metadata": {},
   "source": [
    "Plot observed data, overlap with expected signal and background (normalized to observed yields) with optimal event selection."
   ]
  },
  {
   "cell_type": "code",
   "execution_count": null,
   "metadata": {},
   "outputs": [],
   "source": []
  },
  {
   "cell_type": "markdown",
   "metadata": {},
   "source": [
    "Evaluate observed significance and compare your results to expectation."
   ]
  },
  {
   "cell_type": "code",
   "execution_count": null,
   "metadata": {},
   "outputs": [],
   "source": []
  },
  {
   "cell_type": "markdown",
   "metadata": {},
   "source": [
    "## 95% Confidence Level of signal yields\n",
    "\n",
    "In the low luminosity data, the observed significance is less than 5 sigma, We will calculate the 95% confidence level upper limit of signal yield."
   ]
  },
  {
   "cell_type": "code",
   "execution_count": null,
   "metadata": {},
   "outputs": [],
   "source": []
  },
  {
   "cell_type": "markdown",
   "metadata": {},
   "source": [
    "Evaluate the expected 95% confidence level upper limit"
   ]
  },
  {
   "cell_type": "code",
   "execution_count": null,
   "metadata": {},
   "outputs": [],
   "source": []
  },
  {
   "cell_type": "markdown",
   "metadata": {},
   "source": [
    "Evaluate the observed 95% confidence level upper limit"
   ]
  },
  {
   "cell_type": "code",
   "execution_count": null,
   "metadata": {},
   "outputs": [],
   "source": []
  },
  {
   "cell_type": "markdown",
   "metadata": {},
   "source": [
    "Compare expectation to observation. Comment on your finding."
   ]
  },
  {
   "cell_type": "code",
   "execution_count": null,
   "metadata": {},
   "outputs": [],
   "source": []
  }
 ],
 "metadata": {
  "kernelspec": {
   "display_name": "Python 3",
   "language": "python",
   "name": "python3"
  },
  "language_info": {
   "codemirror_mode": {
    "name": "ipython",
    "version": 3
   },
   "file_extension": ".py",
   "mimetype": "text/x-python",
   "name": "python",
   "nbconvert_exporter": "python",
   "pygments_lexer": "ipython3",
   "version": "3.7.3"
  }
 },
 "nbformat": 4,
 "nbformat_minor": 2
}
