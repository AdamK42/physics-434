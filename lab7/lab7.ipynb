{
 "cells": [
  {
   "cell_type": "markdown",
   "metadata": {},
   "source": [
    "# Lab 7\n",
    "\n",
    "## Event Selection Optimization\n",
    "\n",
    "You and your lab partner should pick different pT (transverse momentum) samples (one uses low-pT sampels and the other use high-pT samples) for this lab. In each pT sample, there are dedicated training samples for event selection optimization. All studies should be carried out by normalizing Higgs and QCD samples in each pT sample to given expected yields accordingly (See Dataset descriptions)."
   ]
  },
  {
   "cell_type": "code",
   "execution_count": 14,
   "metadata": {},
   "outputs": [],
   "source": [
    "# Imports\n",
    "%matplotlib inline\n",
    "import numpy as np\n",
    "import matplotlib\n",
    "import matplotlib.pyplot as plt\n",
    "import scipy\n",
    "import pickle\n",
    "import pandas as pd"
   ]
  },
  {
   "cell_type": "code",
   "execution_count": 10,
   "metadata": {},
   "outputs": [
    {
     "name": "stdout",
     "output_type": "stream",
     "text": [
      "Index(['pt', 'eta', 'phi', 'mass', 'ee2', 'ee3', 'd2', 'angularity', 't1',\n",
      "       't2', 't3', 't21', 't32', 'KtDeltaR'],\n",
      "      dtype='object')\n"
     ]
    }
   ],
   "source": [
    "# pickle read higgs and qcd files\n",
    "higgs_file = open(\"Higgs_data/Sample_pt_250_500/higgs_100000_pt_250_500.pkl\", 'rb')\n",
    "higgs_dict = pickle.load(higgs_file)\n",
    "qcd_file = open(\"Higgs_data/Sample_pt_250_500/qcd_100000_pt_250_500.pkl\", 'rb')\n",
    "qcd_dict = pickle.load(qcd_file)\n",
    "\n",
    "print(higgs_dict.keys()) # qcd_dict has same keys"
   ]
  },
  {
   "cell_type": "code",
   "execution_count": 11,
   "metadata": {},
   "outputs": [],
   "source": [
    "# pull out the arrays\n",
    "pt_h = higgs_dict['pt']\n",
    "eta_h = higgs_dict['eta']\n",
    "phi_h = higgs_dict['phi']\n",
    "mass_h = higgs_dict['mass']\n",
    "ee2_h = higgs_dict['ee2']\n",
    "ee3_h = higgs_dict['ee3']\n",
    "d2_h = higgs_dict['d2']\n",
    "ang_h = higgs_dict['angularity']\n",
    "t1_h = higgs_dict['t1']\n",
    "t2_h = higgs_dict['t2']\n",
    "t3_h = higgs_dict['t3']\n",
    "t21_h = higgs_dict['t21']\n",
    "t32_h = higgs_dict['t32']\n",
    "KtDeltaR_h = higgs_dict['KtDeltaR']\n",
    "\n",
    "pt_q = qcd_dict['pt']\n",
    "eta_q = qcd_dict['eta']\n",
    "phi_q = qcd_dict['phi']\n",
    "mass_q = qcd_dict['mass']\n",
    "ee2_q = qcd_dict['ee2']\n",
    "ee3_q = qcd_dict['ee3']\n",
    "d2_q = qcd_dict['d2']\n",
    "ang_q = qcd_dict['angularity']\n",
    "t1_q = qcd_dict['t1']\n",
    "t2_q = qcd_dict['t2']\n",
    "t3_q = qcd_dict['t3']\n",
    "t21_q = qcd_dict['t21']\n",
    "t32_q = qcd_dict['t32']\n",
    "KtDeltaR_q = qcd_dict['KtDeltaR']"
   ]
  },
  {
   "cell_type": "markdown",
   "metadata": {},
   "source": [
    "## Problem 1\n",
    "\n",
    "Make a stacked histogram plot for the feature variable: mass."
   ]
  },
  {
   "cell_type": "code",
   "execution_count": 13,
   "metadata": {},
   "outputs": [
    {
     "data": {
      "image/png": "[encoded data removed]",
      "text/plain": [
       "<Figure size 648x648 with 1 Axes>"
      ]
     },
     "metadata": {
      "needs_background": "light"
     },
     "output_type": "display_data"
    }
   ],
   "source": [
    "# Ok, we need to make this normalized, and want to stack h mass and q mass\n",
    "figure = plt.figure(figsize=(9, 9))\n",
    "ax = figure.subplots()\n",
    "\n",
    "n, bins, patches = ax.hist([mass_q, mass_h], bins=80, \n",
    "                           stacked=True, density=True);\n",
    "ax.set_title(\"Normalized histogram of particle mass\")\n",
    "ax.set_ylabel(\"Probability\")\n",
    "ax.set_xlabel(\"Mass (in GeV)\")\n",
    "ax.legend([\"QCD Data\", \"Higgs Data\"]);"
   ]
  },
  {
   "cell_type": "markdown",
   "metadata": {},
   "source": [
    "Evaluate expected significance withoout any event selection."
   ]
  },
  {
   "cell_type": "code",
   "execution_count": null,
   "metadata": {},
   "outputs": [],
   "source": []
  },
  {
   "cell_type": "markdown",
   "metadata": {},
   "source": [
    "## Problem 2\n",
    "\n",
    "Identify mass cuts to optimize the expected sigificance. Try different mass cuts systematically."
   ]
  },
  {
   "cell_type": "code",
   "execution_count": null,
   "metadata": {},
   "outputs": [],
   "source": []
  },
  {
   "cell_type": "markdown",
   "metadata": {},
   "source": [
    "Evaluate expected significance for each set of mass cuts. Identify the set of the mass cuts which each set of mass cuts."
   ]
  },
  {
   "cell_type": "code",
   "execution_count": null,
   "metadata": {},
   "outputs": [],
   "source": []
  },
  {
   "cell_type": "markdown",
   "metadata": {},
   "source": [
    "## Problem 3\n",
    "\n",
    "Make stacked histogram plots for the reset of features. "
   ]
  },
  {
   "cell_type": "markdown",
   "metadata": {},
   "source": [
    "Set A of plots without any selection. Can you identify another feature as discriminative as mass?"
   ]
  },
  {
   "cell_type": "code",
   "execution_count": null,
   "metadata": {},
   "outputs": [],
   "source": []
  },
  {
   "cell_type": "markdown",
   "metadata": {},
   "source": [
    "Set B of plots with your optimal mass cuts. Can you identify additional features to further improve expected significance?\n"
   ]
  },
  {
   "cell_type": "code",
   "execution_count": null,
   "metadata": {},
   "outputs": [],
   "source": []
  },
  {
   "cell_type": "markdown",
   "metadata": {},
   "source": [
    "## Problem 4\n",
    "Optimize event selections using multiple features (if necessary)\n",
    "\n",
    "Find a set of feature cuts which can help you to achieve the best significance."
   ]
  },
  {
   "cell_type": "code",
   "execution_count": null,
   "metadata": {},
   "outputs": [],
   "source": []
  },
  {
   "cell_type": "markdown",
   "metadata": {},
   "source": [
    "Compare significance (before/after event selection) derived in your pT samples to your lab partner. Describe your findings."
   ]
  },
  {
   "cell_type": "code",
   "execution_count": null,
   "metadata": {},
   "outputs": [],
   "source": []
  },
  {
   "cell_type": "markdown",
   "metadata": {},
   "source": [
    "# Lab 8\n",
    "\n",
    "## Pseudo-experiment data analysis\n",
    "\n",
    "Using your optimized event selection, hunt for your signal by using one of the pseudo-experiment dataset. For each task below, you will choose one of the observed data from your specific pT sample to perform the analysis."
   ]
  },
  {
   "cell_type": "code",
   "execution_count": null,
   "metadata": {},
   "outputs": [],
   "source": [
    "hi_lumi_file = \"Sample_pt_250_500/data_highLumi_pt_250_500.h5\"\n",
    "hi_data = pd.read_hdf(hi_lumi_file)\n",
    "\n",
    "lo_lumi_file = \"Sample_pt_250_500/data_lowLumi_pt_250_500.h5\"\n",
    "lo_data = pd.read_hdf(lo_lumi_file)"
   ]
  },
  {
   "cell_type": "markdown",
   "metadata": {},
   "source": [
    "## High luminosity data\n",
    "\n",
    "Focus on each feature of your event selection. Plot observed data, overlap with expected signal and background (normalized to observed yields) without event selection."
   ]
  },
  {
   "cell_type": "code",
   "execution_count": null,
   "metadata": {},
   "outputs": [],
   "source": []
  },
  {
   "cell_type": "markdown",
   "metadata": {},
   "source": [
    "Plot observed data, overlap with expected signal and background (normalized to observed yields) with optimal event selection."
   ]
  },
  {
   "cell_type": "code",
   "execution_count": null,
   "metadata": {},
   "outputs": [],
   "source": []
  },
  {
   "cell_type": "markdown",
   "metadata": {},
   "source": [
    "Evaluate observed significance and compare your results to expectation."
   ]
  },
  {
   "cell_type": "code",
   "execution_count": null,
   "metadata": {},
   "outputs": [],
   "source": []
  },
  {
   "cell_type": "markdown",
   "metadata": {},
   "source": [
    "## Low luminosity data\n",
    "\n",
    "Focus on each feature of your event selection. Plot observed data, overlap with expected signal and background (normalized to observed yields) without event selection."
   ]
  },
  {
   "cell_type": "code",
   "execution_count": null,
   "metadata": {},
   "outputs": [],
   "source": []
  },
  {
   "cell_type": "markdown",
   "metadata": {},
   "source": [
    "Plot observed data, overlap with expected signal and background (normalized to observed yields) with optimal event selection."
   ]
  },
  {
   "cell_type": "code",
   "execution_count": null,
   "metadata": {},
   "outputs": [],
   "source": []
  },
  {
   "cell_type": "markdown",
   "metadata": {},
   "source": [
    "Evaluate observed significance and compare your results to expectation."
   ]
  },
  {
   "cell_type": "code",
   "execution_count": null,
   "metadata": {},
   "outputs": [],
   "source": []
  },
  {
   "cell_type": "markdown",
   "metadata": {},
   "source": [
    "## 95% Confidence Level of signal yields\n",
    "\n",
    "In the low luminosity data, the observed significance is less than 5 sigma, We will calculate the 95% confidence level upper limit of signal yield."
   ]
  },
  {
   "cell_type": "code",
   "execution_count": null,
   "metadata": {},
   "outputs": [],
   "source": []
  },
  {
   "cell_type": "markdown",
   "metadata": {},
   "source": [
    "Evaluate the expected "
   ]
  }
 ],
 "metadata": {
  "kernelspec": {
   "display_name": "Python 3",
   "language": "python",
   "name": "python3"
  },
  "language_info": {
   "codemirror_mode": {
    "name": "ipython",
    "version": 3
   },
   "file_extension": ".py",
   "mimetype": "text/x-python",
   "name": "python",
   "nbconvert_exporter": "python",
   "pygments_lexer": "ipython3",
   "version": "3.7.3"
  }
 },
 "nbformat": 4,
 "nbformat_minor": 2
}
