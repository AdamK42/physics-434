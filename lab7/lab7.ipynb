{
 "cells": [
  {
   "cell_type": "markdown",
   "metadata": {},
   "source": [
    "# Lab 7\n",
    "\n",
    "## Event Selection Optimization\n",
    "\n",
    "You and your lab partner should pick different pT (transverse momentum) samples (one uses low-pT sampels and the other use high-pT samples) for this lab. In each pT sample, there are dedicated training samples for event selection optimization. All studies should be carried out by normalizing Higgs and QCD samples in each pT sample to given expected yields accordingly (See Dataset descriptions)."
   ]
  },
  {
   "cell_type": "code",
   "execution_count": 2,
   "metadata": {},
   "outputs": [],
   "source": [
    "# Imports\n",
    "%matplotlib inline\n",
    "import numpy as np\n",
    "import matplotlib\n",
    "import matplotlib.pyplot as plt\n",
    "import scipy\n",
    "import pickle"
   ]
  },
  {
   "cell_type": "code",
   "execution_count": 3,
   "metadata": {},
   "outputs": [
    {
     "name": "stdout",
     "output_type": "stream",
     "text": [
      "Index(['pt', 'eta', 'phi', 'mass', 'ee2', 'ee3', 'd2', 'angularity', 't1',\n",
      "       't2', 't3', 't21', 't32', 'KtDeltaR'],\n",
      "      dtype='object')\n"
     ]
    }
   ],
   "source": [
    "# pickle read higgs and qcd files\n",
    "higgs_file = open(\"Higgs_data/Sample_pt_250_500/higgs_100000_pt_250_500.pkl\", 'rb')\n",
    "higgs_dict = pickle.load(higgs_file)\n",
    "qcd_file = open(\"Higgs_data/Sample_pt_250_500/qcd_100000_pt_250_500.pkl\", 'rb')\n",
    "qcd_dict = pickle.load(qcd_file)\n",
    "\n",
    "print(higgs_dict.keys()) # qcd_dict has same keys"
   ]
  },
  {
   "cell_type": "code",
   "execution_count": 4,
   "metadata": {},
   "outputs": [],
   "source": [
    "# pull out the arrays\n",
    "pt_h = higgs_dict['pt']\n",
    "eta_h = higgs_dict['eta']\n",
    "phi_h = higgs_dict['phi']\n",
    "mass_h = higgs_dict['mass']\n",
    "ee2_h = higgs_dict['ee2']\n",
    "ee3_h = higgs_dict['ee3']\n",
    "d2_h = higgs_dict['d2']\n",
    "ang_h = higgs_dict['angularity']\n",
    "t1_h = higgs_dict['t1']\n",
    "t2_h = higgs_dict['t2']\n",
    "t3_h = higgs_dict['t3']\n",
    "t21_h = higgs_dict['t21']\n",
    "t32_h = higgs_dict['t32']\n",
    "KtDeltaR_h = higgs_dict['KtDeltaR']\n",
    "\n",
    "pt_q = qcd_dict['pt']\n",
    "eta_q = qcd_dict['eta']\n",
    "phi_q = qcd_dict['phi']\n",
    "mass_q = qcd_dict['mass']\n",
    "ee2_q = qcd_dict['ee2']\n",
    "ee3_q = qcd_dict['ee3']\n",
    "d2_q = qcd_dict['d2']\n",
    "ang_q = qcd_dict['angularity']\n",
    "t1_q = qcd_dict['t1']\n",
    "t2_q = qcd_dict['t2']\n",
    "t3_q = qcd_dict['t3']\n",
    "t21_q = qcd_dict['t21']\n",
    "t32_q = qcd_dict['t32']\n",
    "KtDeltaR_q = qcd_dict['KtDeltaR']"
   ]
  },
  {
   "cell_type": "markdown",
   "metadata": {},
   "source": [
    "## Problem 1\n",
    "\n",
    "Make a stacked histogram plot for the feature variable: mass."
   ]
  },
  {
   "cell_type": "code",
   "execution_count": 21,
   "metadata": {},
   "outputs": [
    {
     "data": {
      "image/png": "[encoded data removed]",
      "text/plain": [
       "<Figure size 648x648 with 1 Axes>"
      ]
     },
     "metadata": {
      "needs_background": "light"
     },
     "output_type": "display_data"
    }
   ],
   "source": [
    "# Ok, we need to make this normalized, and want to stack h mass and q mass\n",
    "figure = plt.figure(figsize=(9, 9))\n",
    "ax = figure.subplots()\n",
    "\n",
    "ax.hist([mass_q, mass_h], bins=100, histtype='step',\n",
    "        density=True);\n",
    "ax.set_title(\"Normalized histogram of particle mass\")\n",
    "ax.set_ylabel(\"Probability\")\n",
    "ax.set_xlabel(\"Mass (in GeV)\")\n",
    "ax.legend([\"QCD Data\", \"Higgs Data\"]);"
   ]
  }
 ],
 "metadata": {
  "kernelspec": {
   "display_name": "Python 3",
   "language": "python",
   "name": "python3"
  },
  "language_info": {
   "codemirror_mode": {
    "name": "ipython",
    "version": 3
   },
   "file_extension": ".py",
   "mimetype": "text/x-python",
   "name": "python",
   "nbconvert_exporter": "python",
   "pygments_lexer": "ipython3",
   "version": "3.7.3"
  }
 },
 "nbformat": 4,
 "nbformat_minor": 2
}
