{
 "cells": [
  {
   "cell_type": "markdown",
   "metadata": {},
   "source": [
    "# Lab 1\n",
    "\n",
    "First off, I shall create a cell to import some useful pieces, that way I do not forget to do so later when I need it."
   ]
  },
  {
   "cell_type": "code",
   "execution_count": 56,
   "metadata": {},
   "outputs": [],
   "source": [
    "%matplotlib inline\n",
    "import numpy as np\n",
    "import matplotlib\n",
    "import matplotlib.pyplot as plt\n",
    "import scipy\n",
    "from scipy import stats"
   ]
  },
  {
   "cell_type": "markdown",
   "metadata": {},
   "source": [
    "## A little statistics\n",
    "\n",
    "### 1B. Integrating the standard normal distribution.\n",
    "First, I shall use the stats.norm.cdf() error function. I will also display the z table value found on wikipedia (the link provided in the lab instructions)."
   ]
  },
  {
   "cell_type": "code",
   "execution_count": 20,
   "metadata": {},
   "outputs": [
    {
     "name": "stdout",
     "output_type": "stream",
     "text": [
      "0.5 = 0.5\n",
      "0.7257468822499265 = 0.72575\n",
      "0.8413447460685429 = 0.84134\n"
     ]
    }
   ],
   "source": [
    "#       error function       z-table\n",
    "print(str(stats.norm.cdf(0)) + \" = 0.5\")\n",
    "print(str(stats.norm.cdf(0.6)) + \" = 0.72575\")\n",
    "print(str(stats.norm.cdf(1)) + \" = 0.84134\")"
   ]
  },
  {
   "cell_type": "markdown",
   "metadata": {},
   "source": [
    "### 1C. The other way.\n",
    "\n",
    "I shall now use stats.norm.ppf() to show the sigma value of a given probability. I shall choose probabilities associated with 1, 2, and 5 sigma."
   ]
  },
  {
   "cell_type": "code",
   "execution_count": 27,
   "metadata": {},
   "outputs": [
    {
     "name": "stdout",
     "output_type": "stream",
     "text": [
      "0.9999803859660787 = 1 sigma\n",
      "2.0000024438996027 = 2 sigma\n",
      "4.999999999970176 = 5 sigma\n"
     ]
    }
   ],
   "source": [
    "print(str(stats.norm.ppf(0.84134)) + \" = 1 sigma\")\n",
    "print(str(stats.norm.ppf(0.97725)) + \" = 2 sigma\")\n",
    "print(str(stats.norm.ppf(0.9999997133484281)) + \" = 5 sigma\")"
   ]
  },
  {
   "cell_type": "markdown",
   "metadata": {},
   "source": [
    "### 1D. Explaining the negatives\n",
    "\n",
    "We are integrating from infinity to the sigma value we give, which goes to zero at probabilities of 50%. This 50% indicates that there is a 1/2 chance a event will be on eitherside of that probability. This is what 0 sigma means, that we are at the mean value for the distribution. For sigmas reporting as negative, we can interpret the values differently, knowing that a \"negative\" sigma is actually just sigma away from the mean on the left side of the mean, rather than the right. The negative sign merely shows which side of the mean the sigma is on."
   ]
  },
  {
   "cell_type": "markdown",
   "metadata": {},
   "source": [
    "### 2. A different distribution\n",
    "\n",
    "Make both the analytic pdf() and a relization with ~100k samples using a built-in distribution. I shall choose the exponential distribution.\n",
    "\n",
    "The exponential distribution is a special case of the gamma distribution, \n",
    "with *a = 1*. The scipy function is stats.gamma.rvs(1, samples) for our purposes."
   ]
  },
  {
   "cell_type": "code",
   "execution_count": 37,
   "metadata": {},
   "outputs": [
    {
     "data": {
      "text/plain": [
       "[<matplotlib.lines.Line2D at 0x7f06c076f400>]"
      ]
     },
     "execution_count": 37,
     "metadata": {},
     "output_type": "execute_result"
    },
    {
     "data": {
      "image/png": "[encoded data removed]",
      "text/plain": [
       "<Figure size 432x288 with 1 Axes>"
      ]
     },
     "metadata": {
      "needs_background": "light"
     },
     "output_type": "display_data"
    }
   ],
   "source": [
    "samples = stats.gamma.rvs(1, size = 100000)\n",
    "\n",
    "fig, ax = plt.subplots(1, 1)\n",
    "ax.hist(samples, 50, density = True)\n",
    "plt.tick_params(labelsize = 24)\n",
    "plt.xlim([0, 7])\n",
    "x = np.linspace(0, 7, 1000)\n",
    "ax.plot(x, stats.gamma.pdf(x, 1), linewidth = 3, alpha = 1)"
   ]
  },
  {
   "cell_type": "markdown",
   "metadata": {},
   "source": [
    "### 3. Signal-free distribution\n",
    "\n",
    "You have a measurement for which you need to decide 'sigma'.\n",
    "\n",
    "### 3A. Select a value for your hypothetical measurement.\n",
    "\n",
    "I shall choose the value 4.2, for it is The Answer divided by 10.\n",
    "\n",
    "### 3B. Statistical question\n",
    "\n",
    "For the given measurement, find the probability that the measurement is not noise. \n",
    "\n",
    "### 3C. Convert to math\n",
    "\n",
    "Integral_(measurement value) ^(infinity) (exponential function) dx\n",
    "\n",
    "### 4D. and 4E. Calculate probability and Sigma"
   ]
  },
  {
   "cell_type": "code",
   "execution_count": 45,
   "metadata": {},
   "outputs": [
    {
     "name": "stdout",
     "output_type": "stream",
     "text": [
      "98.50044231795223% probability of signal\n",
      "2.170207190096744 sigma\n"
     ]
    }
   ],
   "source": [
    "measurement = 4.2\n",
    "probability = stats.gamma.cdf(measurement, 1)\n",
    "print(str(100*probability) + \"% probability of signal\")\n",
    "#Calculate sigma on a normal with the probability\n",
    "sigma = stats.norm.ppf(probability)\n",
    "print(str(sigma) + \" sigma\")"
   ]
  },
  {
   "cell_type": "markdown",
   "metadata": {},
   "source": [
    "measurements = np.linspace(0, 7, 71)\n",
    "for _idx in range(0, len(measurements)):\n",
    "    print(\"Measurement: \" + str(measurements[_idx]))\n",
    "    prob = stats.gamma.cdf(measurements[_idx], 1)\n",
    "    print(str(100*probability) + \"% probability of signal\")\n",
    "    sigma = stats.norm.ppf(probability)\n",
    "    print(str(sigma) + \" sigma \\n\")\n",
    "\n",
    "print(\"Measurements complete\")"
   ]
  },
  {
   "cell_type": "markdown",
   "metadata": {},
   "source": [
    "## Non-Continuous Distributions\n",
    "\n",
    "binomial"
   ]
  }
 ],
 "metadata": {
  "kernelspec": {
   "display_name": "Python 3",
   "language": "python",
   "name": "python3"
  },
  "language_info": {
   "codemirror_mode": {
    "name": "ipython",
    "version": 3
   },
   "file_extension": ".py",
   "mimetype": "text/x-python",
   "name": "python",
   "nbconvert_exporter": "python",
   "pygments_lexer": "ipython3",
   "version": "3.7.3"
  }
 },
 "nbformat": 4,
 "nbformat_minor": 2
}
