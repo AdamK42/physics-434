{
 "cells": [
  {
   "cell_type": "markdown",
   "metadata": {},
   "source": [
    "# Lab 1\n",
    "\n",
    "First off, I shall create a cell to import some useful pieces, that way I do not forget to do so later when I need it."
   ]
  },
  {
   "cell_type": "code",
   "execution_count": 2,
   "metadata": {},
   "outputs": [],
   "source": [
    "%matplotlib inline\n",
    "import numpy as np\n",
    "import matplotlib\n",
    "import matplotlib.pyplot as plt\n",
    "import scipy\n",
    "from scipy import stats"
   ]
  },
  {
   "cell_type": "markdown",
   "metadata": {},
   "source": [
    "## A little statistics\n",
    "\n",
    "### 1B. Integrating the standard normal distribution.\n",
    "First, I shall use the stats.norm.cdf() error function. I will also display the z table value found on wikipedia (the link provided in the lab instructions)."
   ]
  },
  {
   "cell_type": "code",
   "execution_count": 3,
   "metadata": {},
   "outputs": [
    {
     "name": "stdout",
     "output_type": "stream",
     "text": [
      "0.5 = 0.5\n",
      "0.7257468822499265 = 0.72575\n",
      "0.8413447460685429 = 0.84134\n"
     ]
    }
   ],
   "source": [
    "#       error function       z-table\n",
    "print(str(stats.norm.cdf(0)) + \" = 0.5\")\n",
    "print(str(stats.norm.cdf(0.6)) + \" = 0.72575\")\n",
    "print(str(stats.norm.cdf(1)) + \" = 0.84134\")"
   ]
  },
  {
   "cell_type": "markdown",
   "metadata": {},
   "source": [
    "### 1C. The other way.\n",
    "\n",
    "I shall now use stats.norm.ppf() to show the sigma value of a given probability. I shall choose probabilities associated with 1, 2, and 5 sigma."
   ]
  },
  {
   "cell_type": "code",
   "execution_count": 4,
   "metadata": {},
   "outputs": [
    {
     "name": "stdout",
     "output_type": "stream",
     "text": [
      "0.9999803859660787 = 1 sigma\n",
      "2.0000024438996027 = 2 sigma\n",
      "4.999999999970176 = 5 sigma\n"
     ]
    }
   ],
   "source": [
    "print(str(stats.norm.ppf(0.84134)) + \" = 1 sigma\")\n",
    "print(str(stats.norm.ppf(0.97725)) + \" = 2 sigma\")\n",
    "print(str(stats.norm.ppf(0.9999997133484281)) + \" = 5 sigma\")"
   ]
  },
  {
   "cell_type": "markdown",
   "metadata": {},
   "source": [
    "### 1D. Explaining the negatives\n",
    "\n",
    "We are integrating from infinity to the sigma value we give, which goes to zero at probabilities of 50%. This 50% indicates that there is a 1/2 chance a event will be on eitherside of that probability. This is what 0 sigma means, that we are at the mean value for the distribution. For sigmas reporting as negative, we can interpret the values differently, knowing that a \"negative\" sigma is actually just sigma away from the mean on the left side of the mean, rather than the right. The negative sign merely shows which side of the mean the sigma is on."
   ]
  },
  {
   "cell_type": "markdown",
   "metadata": {},
   "source": [
    "### 2. A different distribution\n",
    "\n",
    "Make both the analytic pdf() and a relization with ~100k samples using a built-in distribution. I shall choose the exponential distribution.\n",
    "\n",
    "The exponential distribution is a special case of the gamma distribution, \n",
    "with *a = 1*. The scipy function is stats.gamma.rvs(1, samples) for our purposes."
   ]
  },
  {
   "cell_type": "code",
   "execution_count": 5,
   "metadata": {},
   "outputs": [
    {
     "data": {
      "text/plain": [
       "[<matplotlib.lines.Line2D at 0x7f548f500080>]"
      ]
     },
     "execution_count": 5,
     "metadata": {},
     "output_type": "execute_result"
    },
    {
     "data": {
      "image/png": "[encoded data removed]",
      "text/plain": [
       "<Figure size 432x288 with 1 Axes>"
      ]
     },
     "metadata": {
      "needs_background": "light"
     },
     "output_type": "display_data"
    }
   ],
   "source": [
    "samples = stats.gamma.rvs(1, size = 100000)\n",
    "\n",
    "fig, ax = plt.subplots(1, 1)\n",
    "\n",
    "#Data is the samples in 50 rectangles with a total area of 1\n",
    "ax.hist(samples, bins=50, density=True)\n",
    "plt.tick_params(labelsize = 24)\n",
    "plt.xlim([0, 7])\n",
    "x = np.linspace(0, 7, 1000)\n",
    "ax.plot(x, stats.gamma.pdf(x, 1), linewidth = 3, alpha = 1)"
   ]
  },
  {
   "cell_type": "markdown",
   "metadata": {},
   "source": [
    "### 3. Signal-free distribution\n",
    "\n",
    "You have a measurement for which you need to decide 'sigma'.\n",
    "\n",
    "### 3A. Select a value for your hypothetical measurement.\n",
    "\n",
    "I shall choose the value 4.2, for it is The Answer divided by 10.\n",
    "\n",
    "### 3B. Statistical question\n",
    "\n",
    "For the given measurement, find the probability that the measurement is not noise. \n",
    "\n",
    "### 3C. Convert to math\n",
    "\n",
    "Integral_(measurement value) ^(infinity) (exponential function) dx\n",
    "\n",
    "### 4D. and 4E. Calculate probability and Sigma"
   ]
  },
  {
   "cell_type": "code",
   "execution_count": 7,
   "metadata": {},
   "outputs": [
    {
     "name": "stdout",
     "output_type": "stream",
     "text": [
      "98.50044231795223% probability of signal\n",
      "2.170207190096744 sigma\n"
     ]
    }
   ],
   "source": [
    "measurement = 4.2\n",
    "probability = stats.gamma.cdf(measurement, 1)\n",
    "print(str(100*probability) + \"% probability of signal\")\n",
    "#Calculate sigma on a normal with the probability\n",
    "sigma = stats.norm.ppf(probability)\n",
    "print(str(sigma) + \" sigma\")"
   ]
  },
  {
   "cell_type": "code",
   "execution_count": 8,
   "metadata": {},
   "outputs": [
    {
     "name": "stdout",
     "output_type": "stream",
     "text": [
      "Measurement: 0.0\n",
      "98.50044231795223% probability of signal\n",
      "2.170207190096744 sigma \n",
      "\n",
      "Measurement: 0.1\n",
      "98.50044231795223% probability of signal\n",
      "2.170207190096744 sigma \n",
      "\n",
      "Measurement: 0.2\n",
      "98.50044231795223% probability of signal\n",
      "2.170207190096744 sigma \n",
      "\n",
      "Measurement: 0.30000000000000004\n",
      "98.50044231795223% probability of signal\n",
      "2.170207190096744 sigma \n",
      "\n",
      "Measurement: 0.4\n",
      "98.50044231795223% probability of signal\n",
      "2.170207190096744 sigma \n",
      "\n",
      "Measurement: 0.5\n",
      "98.50044231795223% probability of signal\n",
      "2.170207190096744 sigma \n",
      "\n",
      "Measurement: 0.6000000000000001\n",
      "98.50044231795223% probability of signal\n",
      "2.170207190096744 sigma \n",
      "\n",
      "Measurement: 0.7000000000000001\n",
      "98.50044231795223% probability of signal\n",
      "2.170207190096744 sigma \n",
      "\n",
      "Measurement: 0.8\n",
      "98.50044231795223% probability of signal\n",
      "2.170207190096744 sigma \n",
      "\n",
      "Measurement: 0.9\n",
      "98.50044231795223% probability of signal\n",
      "2.170207190096744 sigma \n",
      "\n",
      "Measurement: 1.0\n",
      "98.50044231795223% probability of signal\n",
      "2.170207190096744 sigma \n",
      "\n",
      "Measurement: 1.1\n",
      "98.50044231795223% probability of signal\n",
      "2.170207190096744 sigma \n",
      "\n",
      "Measurement: 1.2000000000000002\n",
      "98.50044231795223% probability of signal\n",
      "2.170207190096744 sigma \n",
      "\n",
      "Measurement: 1.3\n",
      "98.50044231795223% probability of signal\n",
      "2.170207190096744 sigma \n",
      "\n",
      "Measurement: 1.4000000000000001\n",
      "98.50044231795223% probability of signal\n",
      "2.170207190096744 sigma \n",
      "\n",
      "Measurement: 1.5\n",
      "98.50044231795223% probability of signal\n",
      "2.170207190096744 sigma \n",
      "\n",
      "Measurement: 1.6\n",
      "98.50044231795223% probability of signal\n",
      "2.170207190096744 sigma \n",
      "\n",
      "Measurement: 1.7000000000000002\n",
      "98.50044231795223% probability of signal\n",
      "2.170207190096744 sigma \n",
      "\n",
      "Measurement: 1.8\n",
      "98.50044231795223% probability of signal\n",
      "2.170207190096744 sigma \n",
      "\n",
      "Measurement: 1.9000000000000001\n",
      "98.50044231795223% probability of signal\n",
      "2.170207190096744 sigma \n",
      "\n",
      "Measurement: 2.0\n",
      "98.50044231795223% probability of signal\n",
      "2.170207190096744 sigma \n",
      "\n",
      "Measurement: 2.1\n",
      "98.50044231795223% probability of signal\n",
      "2.170207190096744 sigma \n",
      "\n",
      "Measurement: 2.2\n",
      "98.50044231795223% probability of signal\n",
      "2.170207190096744 sigma \n",
      "\n",
      "Measurement: 2.3000000000000003\n",
      "98.50044231795223% probability of signal\n",
      "2.170207190096744 sigma \n",
      "\n",
      "Measurement: 2.4000000000000004\n",
      "98.50044231795223% probability of signal\n",
      "2.170207190096744 sigma \n",
      "\n",
      "Measurement: 2.5\n",
      "98.50044231795223% probability of signal\n",
      "2.170207190096744 sigma \n",
      "\n",
      "Measurement: 2.6\n",
      "98.50044231795223% probability of signal\n",
      "2.170207190096744 sigma \n",
      "\n",
      "Measurement: 2.7\n",
      "98.50044231795223% probability of signal\n",
      "2.170207190096744 sigma \n",
      "\n",
      "Measurement: 2.8000000000000003\n",
      "98.50044231795223% probability of signal\n",
      "2.170207190096744 sigma \n",
      "\n",
      "Measurement: 2.9000000000000004\n",
      "98.50044231795223% probability of signal\n",
      "2.170207190096744 sigma \n",
      "\n",
      "Measurement: 3.0\n",
      "98.50044231795223% probability of signal\n",
      "2.170207190096744 sigma \n",
      "\n",
      "Measurement: 3.1\n",
      "98.50044231795223% probability of signal\n",
      "2.170207190096744 sigma \n",
      "\n",
      "Measurement: 3.2\n",
      "98.50044231795223% probability of signal\n",
      "2.170207190096744 sigma \n",
      "\n",
      "Measurement: 3.3000000000000003\n",
      "98.50044231795223% probability of signal\n",
      "2.170207190096744 sigma \n",
      "\n",
      "Measurement: 3.4000000000000004\n",
      "98.50044231795223% probability of signal\n",
      "2.170207190096744 sigma \n",
      "\n",
      "Measurement: 3.5\n",
      "98.50044231795223% probability of signal\n",
      "2.170207190096744 sigma \n",
      "\n",
      "Measurement: 3.6\n",
      "98.50044231795223% probability of signal\n",
      "2.170207190096744 sigma \n",
      "\n",
      "Measurement: 3.7\n",
      "98.50044231795223% probability of signal\n",
      "2.170207190096744 sigma \n",
      "\n",
      "Measurement: 3.8000000000000003\n",
      "98.50044231795223% probability of signal\n",
      "2.170207190096744 sigma \n",
      "\n",
      "Measurement: 3.9000000000000004\n",
      "98.50044231795223% probability of signal\n",
      "2.170207190096744 sigma \n",
      "\n",
      "Measurement: 4.0\n",
      "98.50044231795223% probability of signal\n",
      "2.170207190096744 sigma \n",
      "\n",
      "Measurement: 4.1000000000000005\n",
      "98.50044231795223% probability of signal\n",
      "2.170207190096744 sigma \n",
      "\n",
      "Measurement: 4.2\n",
      "98.50044231795223% probability of signal\n",
      "2.170207190096744 sigma \n",
      "\n",
      "Measurement: 4.3\n",
      "98.50044231795223% probability of signal\n",
      "2.170207190096744 sigma \n",
      "\n",
      "Measurement: 4.4\n",
      "98.50044231795223% probability of signal\n",
      "2.170207190096744 sigma \n",
      "\n",
      "Measurement: 4.5\n",
      "98.50044231795223% probability of signal\n",
      "2.170207190096744 sigma \n",
      "\n",
      "Measurement: 4.6000000000000005\n",
      "98.50044231795223% probability of signal\n",
      "2.170207190096744 sigma \n",
      "\n",
      "Measurement: 4.7\n",
      "98.50044231795223% probability of signal\n",
      "2.170207190096744 sigma \n",
      "\n",
      "Measurement: 4.800000000000001\n",
      "98.50044231795223% probability of signal\n",
      "2.170207190096744 sigma \n",
      "\n",
      "Measurement: 4.9\n",
      "98.50044231795223% probability of signal\n",
      "2.170207190096744 sigma \n",
      "\n",
      "Measurement: 5.0\n",
      "98.50044231795223% probability of signal\n",
      "2.170207190096744 sigma \n",
      "\n",
      "Measurement: 5.1000000000000005\n",
      "98.50044231795223% probability of signal\n",
      "2.170207190096744 sigma \n",
      "\n",
      "Measurement: 5.2\n",
      "98.50044231795223% probability of signal\n",
      "2.170207190096744 sigma \n",
      "\n",
      "Measurement: 5.300000000000001\n",
      "98.50044231795223% probability of signal\n",
      "2.170207190096744 sigma \n",
      "\n",
      "Measurement: 5.4\n",
      "98.50044231795223% probability of signal\n",
      "2.170207190096744 sigma \n",
      "\n",
      "Measurement: 5.5\n",
      "98.50044231795223% probability of signal\n",
      "2.170207190096744 sigma \n",
      "\n",
      "Measurement: 5.6000000000000005\n",
      "98.50044231795223% probability of signal\n",
      "2.170207190096744 sigma \n",
      "\n",
      "Measurement: 5.7\n",
      "98.50044231795223% probability of signal\n",
      "2.170207190096744 sigma \n",
      "\n",
      "Measurement: 5.800000000000001\n",
      "98.50044231795223% probability of signal\n",
      "2.170207190096744 sigma \n",
      "\n",
      "Measurement: 5.9\n",
      "98.50044231795223% probability of signal\n",
      "2.170207190096744 sigma \n",
      "\n",
      "Measurement: 6.0\n",
      "98.50044231795223% probability of signal\n",
      "2.170207190096744 sigma \n",
      "\n",
      "Measurement: 6.1000000000000005\n",
      "98.50044231795223% probability of signal\n",
      "2.170207190096744 sigma \n",
      "\n",
      "Measurement: 6.2\n",
      "98.50044231795223% probability of signal\n",
      "2.170207190096744 sigma \n",
      "\n",
      "Measurement: 6.300000000000001\n",
      "98.50044231795223% probability of signal\n",
      "2.170207190096744 sigma \n",
      "\n",
      "Measurement: 6.4\n",
      "98.50044231795223% probability of signal\n",
      "2.170207190096744 sigma \n",
      "\n",
      "Measurement: 6.5\n",
      "98.50044231795223% probability of signal\n",
      "2.170207190096744 sigma \n",
      "\n",
      "Measurement: 6.6000000000000005\n",
      "98.50044231795223% probability of signal\n",
      "2.170207190096744 sigma \n",
      "\n",
      "Measurement: 6.7\n",
      "98.50044231795223% probability of signal\n",
      "2.170207190096744 sigma \n",
      "\n",
      "Measurement: 6.800000000000001\n",
      "98.50044231795223% probability of signal\n",
      "2.170207190096744 sigma \n",
      "\n",
      "Measurement: 6.9\n",
      "98.50044231795223% probability of signal\n",
      "2.170207190096744 sigma \n",
      "\n",
      "Measurement: 7.0\n",
      "98.50044231795223% probability of signal\n",
      "2.170207190096744 sigma \n",
      "\n",
      "Measurements complete\n"
     ]
    }
   ],
   "source": [
    "measurements = np.linspace(0, 7, 71)\n",
    "for _idx in range(0, len(measurements)):\n",
    "    print(\"Measurement: \" + str(measurements[_idx]))\n",
    "    prob = stats.gamma.cdf(measurements[_idx], 1)\n",
    "    print(str(100*probability) + \"% probability of signal\")\n",
    "    sigma = stats.norm.ppf(probability)\n",
    "    print(str(sigma) + \" sigma \\n\")\n",
    "\n",
    "print(\"Measurements complete\")"
   ]
  },
  {
   "cell_type": "markdown",
   "metadata": {},
   "source": [
    "## Non-Continuous Distributions\n",
    "\n",
    "The non-continuous distribution I am going to investigate is the binomial distribution. This distribution has the parameters n and p, where n is the number of trials something occurs and p is the success probability per trial. \n",
    "\n",
    "### 1B. Some plots\n",
    "\n",
    "Lets see some plots of the poisson with different parameters:"
   ]
  },
  {
   "cell_type": "code",
   "execution_count": 75,
   "metadata": {},
   "outputs": [
    {
     "data": {
      "image/png": "[encoded data removed]",
      "text/plain": [
       "<Figure size 432x288 with 1 Axes>"
      ]
     },
     "metadata": {
      "needs_background": "light"
     },
     "output_type": "display_data"
    }
   ],
   "source": [
    "from scipy.stats import binom\n",
    "fig, ax = plt.subplots(1, 1)\n",
    "#For n=10 trials and p=0.5 percent success for 1000 samples\n",
    "samples = binom.rvs(n=10, p=0.5, size=1000)\n",
    "ax.hist(samples, bins=50); #Silence output to console"
   ]
  },
  {
   "cell_type": "code",
   "execution_count": 76,
   "metadata": {},
   "outputs": [
    {
     "data": {
      "image/png": "[encoded data removed]",
      "text/plain": [
       "<Figure size 432x288 with 1 Axes>"
      ]
     },
     "metadata": {
      "needs_background": "light"
     },
     "output_type": "display_data"
    }
   ],
   "source": [
    "from scipy.stats import binom\n",
    "fig, ax = plt.subplots(1, 1)\n",
    "#For n=10 trials and p=0.2 percent success for 1000 samples\n",
    "samples = binom.rvs(n=10, p=0.2, size=1000)\n",
    "ax.hist(samples, bins=50); #Silence output to console"
   ]
  },
  {
   "cell_type": "code",
   "execution_count": 78,
   "metadata": {},
   "outputs": [
    {
     "data": {
      "image/png": "[encoded data removed]",
      "text/plain": [
       "<Figure size 432x288 with 1 Axes>"
      ]
     },
     "metadata": {
      "needs_background": "light"
     },
     "output_type": "display_data"
    }
   ],
   "source": [
    "from scipy.stats import binom\n",
    "fig, ax = plt.subplots(1, 1)\n",
    "#For n=1000 trials and p=0.5 percent success for 1000 samples\n",
    "samples = binom.rvs(n=1000, p=0.5, size=1000)\n",
    "ax.hist(samples, bins=50); #Silence output to console"
   ]
  },
  {
   "cell_type": "code",
   "execution_count": 79,
   "metadata": {},
   "outputs": [
    {
     "data": {
      "image/png": "[encoded data removed]",
      "text/plain": [
       "<Figure size 432x288 with 1 Axes>"
      ]
     },
     "metadata": {
      "needs_background": "light"
     },
     "output_type": "display_data"
    }
   ],
   "source": [
    "from scipy.stats import binom\n",
    "fig, ax = plt.subplots(1, 1)\n",
    "#For n=100 trials and p=0.9 percent success for 1000 samples\n",
    "samples = binom.rvs(n=100, p=0.9, size=1000)\n",
    "ax.hist(samples, bins=50); #Silence output to console"
   ]
  },
  {
   "cell_type": "markdown",
   "metadata": {},
   "source": [
    "### 1C. Hypothetical question\n",
    "\n",
    "My question is if this is a signal free distribution and I get a measurement, what is the probability that it is signal like? I would define this probability as farther away from the center of the distribution, which I shall set as *loc + mu*."
   ]
  },
  {
   "cell_type": "code",
   "execution_count": 101,
   "metadata": {},
   "outputs": [
    {
     "name": "stdout",
     "output_type": "stream",
     "text": [
      "99.90234375% signal-like\n"
     ]
    }
   ],
   "source": [
    "from scipy.stats import binom\n",
    "\n",
    "#I shall begin by using an n of 10 and a p of 0.5\n",
    "n_binom = 10\n",
    "p_binom = 0.5\n",
    "\n",
    "measurement= 9 #simulated measurement\n",
    "probability = binom.cdf(measurement, n=n_binom, p=p_binom)\n",
    "\n",
    "print(str(100*probability) + \"% signal-like\")"
   ]
  },
  {
   "cell_type": "markdown",
   "metadata": {},
   "source": [
    "### 1D. Discrete Sigmas\n",
    "\n",
    "Because the distribution of values is in discrete chunks, naturally the sigmas and probabilities will also be in discrete pieces. This means that an upper and lower cases, we know there will be an upper and lower probability to of any measurement, and an upper and lower sigma value. This means that if we hit these probabilities or sigma values, we can say that we have hit a maximally sure result. \n",
    "\n",
    "### 1E. Continous parameters\n",
    "\n",
    "The outputs of any particular binomial distribution will be in discrete pieces, but the value p can be any continous number. This is because it is the average likely-hood of a successful trial, which would be the average answer after an infinite number of trials and infinite examples of those trials. The numbers that do not change continously are the outputs, because they are directly related to n, and the value of n, since it is the number of trials conducted and therefore has no physical meaning when not an integer."
   ]
  }
 ],
 "metadata": {
  "kernelspec": {
   "display_name": "Python 3",
   "language": "python",
   "name": "python3"
  },
  "language_info": {
   "codemirror_mode": {
    "name": "ipython",
    "version": 3
   },
   "file_extension": ".py",
   "mimetype": "text/x-python",
   "name": "python",
   "nbconvert_exporter": "python",
   "pygments_lexer": "ipython3",
   "version": "3.7.3"
  }
 },
 "nbformat": 4,
 "nbformat_minor": 2
}
